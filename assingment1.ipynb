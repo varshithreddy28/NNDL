{
 "cells": [
  {
   "cell_type": "code",
   "execution_count": 1,
   "metadata": {},
   "outputs": [],
   "source": [
    "import pandas as pd\n",
    "import numpy as np\n",
    "from sklearn.model_selection import train_test_split"
   ]
  },
  {
   "cell_type": "code",
   "execution_count": 2,
   "metadata": {},
   "outputs": [
    {
     "name": "stdout",
     "output_type": "stream",
     "text": [
      "Shape : (30, 2)\n"
     ]
    },
    {
     "data": {
      "text/html": [
       "<div>\n",
       "<style scoped>\n",
       "    .dataframe tbody tr th:only-of-type {\n",
       "        vertical-align: middle;\n",
       "    }\n",
       "\n",
       "    .dataframe tbody tr th {\n",
       "        vertical-align: top;\n",
       "    }\n",
       "\n",
       "    .dataframe thead th {\n",
       "        text-align: right;\n",
       "    }\n",
       "</style>\n",
       "<table border=\"1\" class=\"dataframe\">\n",
       "  <thead>\n",
       "    <tr style=\"text-align: right;\">\n",
       "      <th></th>\n",
       "      <th>X</th>\n",
       "      <th>Y</th>\n",
       "    </tr>\n",
       "  </thead>\n",
       "  <tbody>\n",
       "    <tr>\n",
       "      <th>0</th>\n",
       "      <td>75.1</td>\n",
       "      <td>577.8</td>\n",
       "    </tr>\n",
       "    <tr>\n",
       "      <th>1</th>\n",
       "      <td>74.3</td>\n",
       "      <td>577.0</td>\n",
       "    </tr>\n",
       "    <tr>\n",
       "      <th>2</th>\n",
       "      <td>88.7</td>\n",
       "      <td>570.9</td>\n",
       "    </tr>\n",
       "    <tr>\n",
       "      <th>3</th>\n",
       "      <td>114.6</td>\n",
       "      <td>578.6</td>\n",
       "    </tr>\n",
       "    <tr>\n",
       "      <th>4</th>\n",
       "      <td>98.5</td>\n",
       "      <td>572.4</td>\n",
       "    </tr>\n",
       "  </tbody>\n",
       "</table>\n",
       "</div>"
      ],
      "text/plain": [
       "       X      Y\n",
       "0   75.1  577.8\n",
       "1   74.3  577.0\n",
       "2   88.7  570.9\n",
       "3  114.6  578.6\n",
       "4   98.5  572.4"
      ]
     },
     "execution_count": 2,
     "metadata": {},
     "output_type": "execute_result"
    }
   ],
   "source": [
    "data = pd.read_excel(\".\\weight.xlsx\")\n",
    "print(f'Shape : {data.shape}')\n",
    "data.head()\n"
   ]
  },
  {
   "cell_type": "code",
   "execution_count": 3,
   "metadata": {},
   "outputs": [
    {
     "data": {
      "text/html": [
       "<div>\n",
       "<style scoped>\n",
       "    .dataframe tbody tr th:only-of-type {\n",
       "        vertical-align: middle;\n",
       "    }\n",
       "\n",
       "    .dataframe tbody tr th {\n",
       "        vertical-align: top;\n",
       "    }\n",
       "\n",
       "    .dataframe thead th {\n",
       "        text-align: right;\n",
       "    }\n",
       "</style>\n",
       "<table border=\"1\" class=\"dataframe\">\n",
       "  <thead>\n",
       "    <tr style=\"text-align: right;\">\n",
       "      <th></th>\n",
       "      <th>X</th>\n",
       "      <th>Y</th>\n",
       "    </tr>\n",
       "  </thead>\n",
       "  <tbody>\n",
       "    <tr>\n",
       "      <th>0</th>\n",
       "      <td>0.223183</td>\n",
       "      <td>0.995346</td>\n",
       "    </tr>\n",
       "    <tr>\n",
       "      <th>1</th>\n",
       "      <td>0.209343</td>\n",
       "      <td>0.990692</td>\n",
       "    </tr>\n",
       "    <tr>\n",
       "      <th>2</th>\n",
       "      <td>0.458478</td>\n",
       "      <td>0.955207</td>\n",
       "    </tr>\n",
       "    <tr>\n",
       "      <th>3</th>\n",
       "      <td>0.906574</td>\n",
       "      <td>1.000000</td>\n",
       "    </tr>\n",
       "    <tr>\n",
       "      <th>4</th>\n",
       "      <td>0.628028</td>\n",
       "      <td>0.963933</td>\n",
       "    </tr>\n",
       "  </tbody>\n",
       "</table>\n",
       "</div>"
      ],
      "text/plain": [
       "          X         Y\n",
       "0  0.223183  0.995346\n",
       "1  0.209343  0.990692\n",
       "2  0.458478  0.955207\n",
       "3  0.906574  1.000000\n",
       "4  0.628028  0.963933"
      ]
     },
     "execution_count": 3,
     "metadata": {},
     "output_type": "execute_result"
    }
   ],
   "source": [
    "max_x = np.max(data['X'])\n",
    "max_y = np.max(data['Y'])\n",
    "\n",
    "min_x = np.min(data['X'])\n",
    "min_y = np.min(data['Y'])\n",
    "\n",
    "# Nomalization\n",
    "data['X'] = (data['X'] - min_x) / (max_x - min_x)\n",
    "data['Y'] = (data['Y'] - min_y) / (max_y - min_y)\n",
    "\n",
    "data.head()"
   ]
  },
  {
   "cell_type": "code",
   "execution_count": 4,
   "metadata": {},
   "outputs": [],
   "source": [
    "X_Train, X_Test, Y_Train, Y_Test = train_test_split(data[\"X\"], data[\"Y\"], test_size=0.1, random_state=5)"
   ]
  },
  {
   "cell_type": "code",
   "execution_count": 5,
   "metadata": {},
   "outputs": [],
   "source": [
    "m = np.random.uniform(-30, 30)\n",
    "c = np.random.uniform(-30, 30)\n",
    "n = 0.3\n",
    "epochs = 1500\n",
    "\n",
    "for i in range(epochs):\n",
    "    \n",
    "    gm = -sum([(Y_Train.iloc[j] - m * X_Train.iloc[j] - c) * X_Train.iloc[j] for j in range(X_Train.shape[0])])\n",
    "    gm /= X_Train.shape[0]\n",
    "\n",
    "    gc = -sum([(Y_Train.iloc[j] - m * X_Train.iloc[j] - c) for j in range(X_Train.shape[0])])\n",
    "    gc /= X_Train.shape[0]\n",
    "    \n",
    "    m += - n * gm\n",
    "    c += - n * gc"
   ]
  },
  {
   "cell_type": "code",
   "execution_count": 6,
   "metadata": {},
   "outputs": [
    {
     "name": "stdout",
     "output_type": "stream",
     "text": [
      "M value is -0.1827891397076388 and C value is : 0.718717659899428\n"
     ]
    }
   ],
   "source": [
    "print(f'M value is {m} and C value is : {c}')"
   ]
  },
  {
   "cell_type": "code",
   "execution_count": 7,
   "metadata": {},
   "outputs": [],
   "source": [
    "train_p = []\n",
    "test_p = []\n",
    "for i in range(X_Train.shape[0]):\n",
    "    train_p.append(m * X_Train.iloc[i] + c)\n",
    "\n",
    "for i in range(X_Test.shape[0]):\n",
    "    test_p.append(m * X_Test.iloc[i] + c)\n",
    "\n",
    "# Denormalization\n",
    "train_p = [i * (max_y - min_y) + min_y for i in train_p]\n",
    "test_p = [i * (max_y - min_y) + min_y for i in test_p]\n",
    "Y_Train = [i * (max_y - min_y) + min_y for i in Y_Train]\n",
    "Y_Test = [i * (max_y - min_y) + min_y for i in Y_Test]"
   ]
  },
  {
   "cell_type": "code",
   "execution_count": 8,
   "metadata": {},
   "outputs": [
    {
     "name": "stdout",
     "output_type": "stream",
     "text": [
      "Training Error :\n",
      "MAE : 28.571666151350176\n",
      "MSE : 1573.0643221387081\n",
      "RMSE : 39.661874919608984\n",
      "Testing Error :\n",
      "MAE : 10.432236402191128\n",
      "MSE : 132.74372596282308\n",
      "RMSE : 11.521446348563321\n"
     ]
    }
   ],
   "source": [
    "# Error Calculation\n",
    "\n",
    "train_MSE = 0\n",
    "train_MAE = 0\n",
    "\n",
    "for i in range(len(Y_Train)):\n",
    "    train_MAE+=abs(train_p[i] - Y_Train[i])\n",
    "for i in range(len(Y_Train)):\n",
    "    train_MSE+=(train_p[i] - Y_Train[i]) ** 2\n",
    "\n",
    "train_MAE/=len(Y_Train)\n",
    "train_MSE/=len(Y_Train)\n",
    "train_RMSE = train_MSE ** 0.5\n",
    "\n",
    "print('Training Error :')\n",
    "print(f'MAE : {train_MAE}')\n",
    "print(f'MSE : {train_MSE}')\n",
    "print(f'RMSE : {train_RMSE}')\n",
    "\n",
    "test_MAE = 0\n",
    "test_MSE = 0\n",
    "\n",
    "for i in range(len(Y_Test)):\n",
    "    test_MAE += abs(test_p[i] - Y_Test[i])\n",
    "for i in range(len(Y_Test)):\n",
    "    test_MSE += (test_p[i] - Y_Test[i]) ** 2\n",
    "\n",
    "test_MAE /=len(Y_Test)\n",
    "test_MSE /=len(Y_Test)\n",
    "test_RMSE = test_MSE ** 0.5\n",
    "\n",
    "print('Testing Error :')\n",
    "print(f'MAE : {test_MAE}')\n",
    "print(f'MSE : {test_MSE}')\n",
    "print(f'RMSE : {test_RMSE}')"
   ]
  },
  {
   "cell_type": "code",
   "execution_count": 10,
   "metadata": {},
   "outputs": [
    {
     "name": "stdout",
     "output_type": "stream",
     "text": [
      "Weight : 515.1348253108007\n"
     ]
    }
   ],
   "source": [
    "p = float(input('Enter pressure of nitrogen : '))\n",
    "p = (p - min_x) / (max_x - min_x)\n",
    "predict = m * p + c\n",
    "predict = (predict * (max_y - min_y)) + min_y\n",
    "print(f'Weight : { predict}')"
   ]
  },
  {
   "cell_type": "code",
   "execution_count": null,
   "metadata": {},
   "outputs": [],
   "source": []
  }
 ],
 "metadata": {
  "interpreter": {
   "hash": "2be5faf79681da6f2a61fdfdd5405d65d042280f7fba6178067603e3a2925119"
  },
  "kernelspec": {
   "display_name": "Python 3.10.1 64-bit",
   "language": "python",
   "name": "python3"
  },
  "language_info": {
   "codemirror_mode": {
    "name": "ipython",
    "version": 3
   },
   "file_extension": ".py",
   "mimetype": "text/x-python",
   "name": "python",
   "nbconvert_exporter": "python",
   "pygments_lexer": "ipython3",
   "version": "3.10.1"
  },
  "orig_nbformat": 4
 },
 "nbformat": 4,
 "nbformat_minor": 2
}
