{
 "cells": [
  {
   "cell_type": "code",
   "execution_count": 14,
   "metadata": {},
   "outputs": [],
   "source": [
    "import pandas as pd\n",
    "import numpy as np\n",
    "from sklearn.model_selection import train_test_split"
   ]
  },
  {
   "cell_type": "code",
   "execution_count": 15,
   "metadata": {},
   "outputs": [
    {
     "name": "stdout",
     "output_type": "stream",
     "text": [
      "Shape : (2184, 3)\n"
     ]
    },
    {
     "data": {
      "text/html": [
       "<div>\n",
       "<style scoped>\n",
       "    .dataframe tbody tr th:only-of-type {\n",
       "        vertical-align: middle;\n",
       "    }\n",
       "\n",
       "    .dataframe tbody tr th {\n",
       "        vertical-align: top;\n",
       "    }\n",
       "\n",
       "    .dataframe thead th {\n",
       "        text-align: right;\n",
       "    }\n",
       "</style>\n",
       "<table border=\"1\" class=\"dataframe\">\n",
       "  <thead>\n",
       "    <tr style=\"text-align: right;\">\n",
       "      <th></th>\n",
       "      <th>Date</th>\n",
       "      <th>Time</th>\n",
       "      <th>Load (kW)</th>\n",
       "    </tr>\n",
       "  </thead>\n",
       "  <tbody>\n",
       "    <tr>\n",
       "      <th>0</th>\n",
       "      <td>01.09.2018</td>\n",
       "      <td>00:00:00</td>\n",
       "      <td>5551.82208</td>\n",
       "    </tr>\n",
       "    <tr>\n",
       "      <th>1</th>\n",
       "      <td>NaN</td>\n",
       "      <td>01:00:00</td>\n",
       "      <td>4983.17184</td>\n",
       "    </tr>\n",
       "    <tr>\n",
       "      <th>2</th>\n",
       "      <td>NaN</td>\n",
       "      <td>02:00:00</td>\n",
       "      <td>4888.39680</td>\n",
       "    </tr>\n",
       "    <tr>\n",
       "      <th>3</th>\n",
       "      <td>NaN</td>\n",
       "      <td>03:00:00</td>\n",
       "      <td>5072.95872</td>\n",
       "    </tr>\n",
       "    <tr>\n",
       "      <th>4</th>\n",
       "      <td>NaN</td>\n",
       "      <td>04:00:00</td>\n",
       "      <td>5196.25980</td>\n",
       "    </tr>\n",
       "  </tbody>\n",
       "</table>\n",
       "</div>"
      ],
      "text/plain": [
       "         Date      Time   Load (kW)\n",
       "0  01.09.2018  00:00:00  5551.82208\n",
       "1         NaN  01:00:00  4983.17184\n",
       "2         NaN  02:00:00  4888.39680\n",
       "3         NaN  03:00:00  5072.95872\n",
       "4         NaN  04:00:00  5196.25980"
      ]
     },
     "execution_count": 15,
     "metadata": {},
     "output_type": "execute_result"
    }
   ],
   "source": [
    "data = pd.read_excel(\".\\LoadData.xlsx\")\n",
    "print(f'Shape : {data.shape}')\n",
    "data.head()\n"
   ]
  },
  {
   "cell_type": "code",
   "execution_count": 16,
   "metadata": {},
   "outputs": [],
   "source": [
    "a=[]\n",
    "b=[]\n",
    "for i in range(1,data.shape[0]):\n",
    "    a.append(data[\"Load (kW)\"].iloc[i-1])\n",
    "    b.append(data[\"Load (kW)\"].iloc[i])"
   ]
  },
  {
   "cell_type": "code",
   "execution_count": 17,
   "metadata": {},
   "outputs": [
    {
     "data": {
      "text/html": [
       "<div>\n",
       "<style scoped>\n",
       "    .dataframe tbody tr th:only-of-type {\n",
       "        vertical-align: middle;\n",
       "    }\n",
       "\n",
       "    .dataframe tbody tr th {\n",
       "        vertical-align: top;\n",
       "    }\n",
       "\n",
       "    .dataframe thead th {\n",
       "        text-align: right;\n",
       "    }\n",
       "</style>\n",
       "<table border=\"1\" class=\"dataframe\">\n",
       "  <thead>\n",
       "    <tr style=\"text-align: right;\">\n",
       "      <th></th>\n",
       "      <th>Previous Hour</th>\n",
       "      <th>Present Hour</th>\n",
       "    </tr>\n",
       "  </thead>\n",
       "  <tbody>\n",
       "    <tr>\n",
       "      <th>0</th>\n",
       "      <td>5551.82208</td>\n",
       "      <td>4983.17184</td>\n",
       "    </tr>\n",
       "    <tr>\n",
       "      <th>1</th>\n",
       "      <td>4983.17184</td>\n",
       "      <td>4888.39680</td>\n",
       "    </tr>\n",
       "    <tr>\n",
       "      <th>2</th>\n",
       "      <td>4888.39680</td>\n",
       "      <td>5072.95872</td>\n",
       "    </tr>\n",
       "    <tr>\n",
       "      <th>3</th>\n",
       "      <td>5072.95872</td>\n",
       "      <td>5196.25980</td>\n",
       "    </tr>\n",
       "    <tr>\n",
       "      <th>4</th>\n",
       "      <td>5196.25980</td>\n",
       "      <td>5641.29720</td>\n",
       "    </tr>\n",
       "  </tbody>\n",
       "</table>\n",
       "</div>"
      ],
      "text/plain": [
       "   Previous Hour  Present Hour\n",
       "0     5551.82208    4983.17184\n",
       "1     4983.17184    4888.39680\n",
       "2     4888.39680    5072.95872\n",
       "3     5072.95872    5196.25980\n",
       "4     5196.25980    5641.29720"
      ]
     },
     "execution_count": 17,
     "metadata": {},
     "output_type": "execute_result"
    }
   ],
   "source": [
    "data = pd.DataFrame({'Previous Hour' : a, 'Present Hour' : b})\n",
    "data.head()"
   ]
  },
  {
   "cell_type": "code",
   "execution_count": 18,
   "metadata": {},
   "outputs": [
    {
     "data": {
      "text/html": [
       "<div>\n",
       "<style scoped>\n",
       "    .dataframe tbody tr th:only-of-type {\n",
       "        vertical-align: middle;\n",
       "    }\n",
       "\n",
       "    .dataframe tbody tr th {\n",
       "        vertical-align: top;\n",
       "    }\n",
       "\n",
       "    .dataframe thead th {\n",
       "        text-align: right;\n",
       "    }\n",
       "</style>\n",
       "<table border=\"1\" class=\"dataframe\">\n",
       "  <thead>\n",
       "    <tr style=\"text-align: right;\">\n",
       "      <th></th>\n",
       "      <th>Previous Hour</th>\n",
       "      <th>Present Hour</th>\n",
       "    </tr>\n",
       "  </thead>\n",
       "  <tbody>\n",
       "    <tr>\n",
       "      <th>0</th>\n",
       "      <td>0.397877</td>\n",
       "      <td>0.293800</td>\n",
       "    </tr>\n",
       "    <tr>\n",
       "      <th>1</th>\n",
       "      <td>0.293800</td>\n",
       "      <td>0.276454</td>\n",
       "    </tr>\n",
       "    <tr>\n",
       "      <th>2</th>\n",
       "      <td>0.276454</td>\n",
       "      <td>0.310234</td>\n",
       "    </tr>\n",
       "    <tr>\n",
       "      <th>3</th>\n",
       "      <td>0.310234</td>\n",
       "      <td>0.332801</td>\n",
       "    </tr>\n",
       "    <tr>\n",
       "      <th>4</th>\n",
       "      <td>0.332801</td>\n",
       "      <td>0.414254</td>\n",
       "    </tr>\n",
       "  </tbody>\n",
       "</table>\n",
       "</div>"
      ],
      "text/plain": [
       "   Previous Hour  Present Hour\n",
       "0       0.397877      0.293800\n",
       "1       0.293800      0.276454\n",
       "2       0.276454      0.310234\n",
       "3       0.310234      0.332801\n",
       "4       0.332801      0.414254"
      ]
     },
     "execution_count": 18,
     "metadata": {},
     "output_type": "execute_result"
    }
   ],
   "source": [
    "max_x = np.max(data['Previous Hour'])\n",
    "max_y = np.max(data['Present Hour'])\n",
    "\n",
    "min_x = np.min(data['Previous Hour'])\n",
    "min_y = np.min(data['Present Hour'])\n",
    "\n",
    "data['Previous Hour'] = (data['Previous Hour'] - min_x) / (max_x - min_x)\n",
    "data['Present Hour'] = (data['Present Hour'] - min_y) / (max_y - min_y)\n",
    "\n",
    "data.head()\n"
   ]
  },
  {
   "cell_type": "code",
   "execution_count": 19,
   "metadata": {},
   "outputs": [],
   "source": [
    "X_Train, X_Test, Y_Train, Y_Test = train_test_split(data[\"Previous Hour\"], data[\"Present Hour\"], test_size=0.1, random_state=5)"
   ]
  },
  {
   "cell_type": "code",
   "execution_count": 20,
   "metadata": {},
   "outputs": [],
   "source": [
    "m = np.random.uniform(-5, 5)\n",
    "c = np.random.uniform(-5, 5)\n",
    "n = 0.5\n",
    "epochs = 800\n",
    "gm2 = 0\n",
    "gc2 = 0\n",
    "e = 1E-6\n",
    "\n",
    "for i in range(epochs):    \n",
    "    for j in range(X_Train.shape[0]):\n",
    "        gm1 = -1 * (Y_Train.iloc[i] - m * X_Train.iloc[i] - c) * X_Train.iloc[i]    \n",
    "        gc1 = -1 * (Y_Train.iloc[i] - m * X_Train.iloc[i] - c)\n",
    "\n",
    "        gm2 += (gm1 ** 2)\n",
    "        gc2 += (gc1 ** 2)\n",
    "        \n",
    "        # Updating m and c values\n",
    "        m -= (n * gm1) / ((e + gm2) ** 0.5)\n",
    "        c -= (n * gc1) / ((e + gc2) ** 0.5)"
   ]
  },
  {
   "cell_type": "code",
   "execution_count": 21,
   "metadata": {},
   "outputs": [
    {
     "name": "stdout",
     "output_type": "stream",
     "text": [
      "M value is 1.0046931058533228 and C value is : 0.03800762471259166\n"
     ]
    }
   ],
   "source": [
    "print(f'M value is {m} and C value is : {c}')"
   ]
  },
  {
   "cell_type": "code",
   "execution_count": 22,
   "metadata": {},
   "outputs": [],
   "source": [
    "train_p = []\n",
    "test_p = []\n",
    "for i in range(X_Train.shape[0]):\n",
    "    train_p.append(m * X_Train.iloc[i] + c)\n",
    "\n",
    "for i in range(X_Test.shape[0]):\n",
    "    test_p.append(m * X_Test.iloc[i] + c)\n",
    "\n",
    "# Denormalization\n",
    "train_p = [i * (max_y - min_y) + min_y for i in train_p]\n",
    "test_p = [i * (max_y - min_y) + min_y for i in test_p]\n",
    "Y_Train = [i * (max_y - min_y) + min_y for i in Y_Train]\n",
    "Y_Test = [i * (max_y - min_y) + min_y for i in Y_Test]\n"
   ]
  },
  {
   "cell_type": "code",
   "execution_count": 23,
   "metadata": {},
   "outputs": [
    {
     "name": "stdout",
     "output_type": "stream",
     "text": [
      "Training Error :\n",
      "MAE : 543.5374164879556\n",
      "MSE : 543607.7317119171\n",
      "RMSE : 737.2975869429637\n",
      "Testing Error :\n",
      "MAE : 550.8563097811352\n",
      "MSE : 563540.187882003\n",
      "RMSE : 750.6931382942054\n"
     ]
    }
   ],
   "source": [
    "# Error Calculation\n",
    "\n",
    "train_MAE = sum([abs(train_p[i] - Y_Train[i]) for i in range(len(Y_Train))]) / len(Y_Train)\n",
    "train_MSE = sum([(train_p[i] - Y_Train[i]) ** 2 for i in range(len(Y_Train))]) / len(Y_Train)\n",
    "train_RMSE = train_MSE ** 0.5\n",
    "print('Training Error :')\n",
    "print(f'MAE : {train_MAE}')\n",
    "print(f'MSE : {train_MSE}')\n",
    "print(f'RMSE : {train_RMSE}')\n",
    "\n",
    "test_MAE = sum([abs(test_p[i] - Y_Test[i]) for i in range(len(Y_Test))]) / len(Y_Test)\n",
    "test_MSE = sum([(test_p[i] - Y_Test[i]) ** 2 for i in range(len(Y_Test))]) / len(Y_Test)\n",
    "test_RMSE = test_MSE ** 0.5\n",
    "print('Testing Error :')\n",
    "print(f'MAE : {test_MAE}')\n",
    "print(f'MSE : {test_MSE}')\n",
    "print(f'RMSE : {test_RMSE}')"
   ]
  },
  {
   "cell_type": "code",
   "execution_count": 24,
   "metadata": {},
   "outputs": [
    {
     "name": "stdout",
     "output_type": "stream",
     "text": [
      "Predicted load at present hour : 5772.881423730902\n"
     ]
    }
   ],
   "source": [
    "load = float(input('Enter the load at previous hour : '))\n",
    "load = (load - min_x) / (max_x - min_x)\n",
    "prediction = m * load + c\n",
    "prediction = (prediction * (max_y - min_y)) + min_y\n",
    "print('Predicted load at present hour :', prediction)"
   ]
  },
  {
   "cell_type": "code",
   "execution_count": null,
   "metadata": {},
   "outputs": [],
   "source": []
  }
 ],
 "metadata": {
  "interpreter": {
   "hash": "2be5faf79681da6f2a61fdfdd5405d65d042280f7fba6178067603e3a2925119"
  },
  "kernelspec": {
   "display_name": "Python 3.10.1 64-bit",
   "language": "python",
   "name": "python3"
  },
  "language_info": {
   "codemirror_mode": {
    "name": "ipython",
    "version": 3
   },
   "file_extension": ".py",
   "mimetype": "text/x-python",
   "name": "python",
   "nbconvert_exporter": "python",
   "pygments_lexer": "ipython3",
   "version": "3.10.1"
  },
  "orig_nbformat": 4
 },
 "nbformat": 4,
 "nbformat_minor": 2
}
